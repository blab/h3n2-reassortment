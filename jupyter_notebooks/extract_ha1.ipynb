{
 "cells": [
  {
   "cell_type": "code",
   "execution_count": 12,
   "metadata": {},
   "outputs": [],
   "source": [
    "import __future__\n",
    "import sys, os\n",
    "import json\n",
    "from Bio import SeqIO\n",
    "# Assume that nextstrain/augur directory is next to h3n2_reassortment directory\n",
    "sys.path.append('../../../hutch/nextstrain/augur/')\n",
    "from base import io_util"
   ]
  },
  {
   "cell_type": "code",
   "execution_count": 13,
   "metadata": {},
   "outputs": [],
   "source": [
    "def load_features(reference, feature_names=None):\n",
    "    # This function was taken directly from nextstrain/augur/augur/uitils.py#216\n",
    "    #read in appropriately whether GFF or Genbank\n",
    "    #checks explicitly for GFF otherwise assumes Genbank\n",
    "    if not os.path.isfile(reference):\n",
    "        print(\"ERROR: reference sequence not found. looking for\", reference)\n",
    "        return None\n",
    "\n",
    "    features = {}\n",
    "    if '.gff' in reference.lower():\n",
    "        #looks for 'gene' and 'gene' as best for TB\n",
    "        try:\n",
    "            from BCBio import GFF #Package name is confusing - tell user exactly what they need!\n",
    "        except ImportError:\n",
    "            print(\"ERROR: Package BCBio.GFF not found! Please install using \\'pip install bcbio-gff\\' before re-running.\")\n",
    "            return None\n",
    "        limit_info = dict( gff_type = ['gene'] )\n",
    "\n",
    "        with open(reference) as in_handle:\n",
    "            for rec in GFF.parse(in_handle, limit_info=limit_info):\n",
    "                for feat in rec.features:\n",
    "                    if feature_names is not None: #check both tags; user may have used either\n",
    "                        if \"gene\" in feat.qualifiers and feat.qualifiers[\"gene\"][0] in feature_names:\n",
    "                            fname = feat.qualifiers[\"gene\"][0]\n",
    "                        elif \"locus_tag\" in feat.qualifiers and feat.qualifiers[\"locus_tag\"][0] in feature_names:\n",
    "                            fname = feat.qualifiers[\"locus_tag\"][0]\n",
    "                        else:\n",
    "                            fname = None\n",
    "                    else:\n",
    "                        if \"gene\" in feat.qualifiers:\n",
    "                            fname = feat.qualifiers[\"gene\"][0]\n",
    "                        else:\n",
    "                            fname = feat.qualifiers[\"locus_tag\"][0]\n",
    "                    if fname:\n",
    "                        features[fname] = feat\n",
    "\n",
    "            if feature_names is not None:\n",
    "                for fe in feature_names:\n",
    "                    if fe not in features:\n",
    "                        print(\"Couldn't find gene {} in GFF or GenBank file\".format(fe))\n",
    "\n",
    "    else:\n",
    "        from Bio import SeqIO\n",
    "        for feat in SeqIO.read(reference, 'genbank').features:\n",
    "            if feat.type=='CDS':\n",
    "                if \"locus_tag\" in feat.qualifiers:\n",
    "                    fname = feat.qualifiers[\"locus_tag\"][0]\n",
    "                    if feature_names is None or fname in feature_names:\n",
    "                        features[fname] = feat\n",
    "                elif \"gene\" in feat.qualifiers:\n",
    "                    fname = feat.qualifiers[\"gene\"][0]\n",
    "                    if feature_names is None or fname in feature_names:\n",
    "                        features[fname] = feat\n",
    "            elif feat.type=='source': #read 'nuc' as well for annotations - need start/end of whole!\n",
    "                features['nuc'] = feat\n",
    "\n",
    "    return features"
   ]
  },
  {
   "cell_type": "code",
   "execution_count": 14,
   "metadata": {},
   "outputs": [],
   "source": [
    "data_file = \"../hyphy/aligned_fastas/HA_aligned.fasta\"\n",
    "ha_ref = \"../src/config/reference_h3n2_ha.gb\"\n",
    "output_file = \"../hyphy/aligned_fastas/HA1.trimmed.test.fasta\"\n",
    "\n",
    "features = load_features(ha_ref, \"HA1\")"
   ]
  },
  {
   "cell_type": "code",
   "execution_count": 15,
   "metadata": {},
   "outputs": [],
   "source": [
    "sequences = []\n",
    "with open(data_file, \"rU\") as handle:\n",
    "    for record in SeqIO.parse(handle, \"fasta\"):\n",
    "        seq = record.seq\n",
    "        record.seq = features['HA1'].extract(seq)\n",
    "        sequences.append(record)"
   ]
  },
  {
   "cell_type": "code",
   "execution_count": 16,
   "metadata": {},
   "outputs": [],
   "source": [
    "with open(output_file, \"w\") as output_handle:\n",
    "    SeqIO.write(sequences, output_handle, \"fasta\")"
   ]
  },
  {
   "cell_type": "code",
   "execution_count": null,
   "metadata": {},
   "outputs": [],
   "source": []
  }
 ],
 "metadata": {
  "kernelspec": {
   "display_name": "Python [conda env:h3n2_reassortment]",
   "language": "python",
   "name": "conda-env-h3n2_reassortment-py"
  },
  "language_info": {
   "codemirror_mode": {
    "name": "ipython",
    "version": 2
   },
   "file_extension": ".py",
   "mimetype": "text/x-python",
   "name": "python",
   "nbconvert_exporter": "python",
   "pygments_lexer": "ipython2",
   "version": "2.7.15"
  }
 },
 "nbformat": 4,
 "nbformat_minor": 2
}
