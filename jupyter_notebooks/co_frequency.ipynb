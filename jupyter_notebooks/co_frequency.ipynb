{
 "cells": [
  {
   "cell_type": "code",
   "execution_count": 1,
   "metadata": {},
   "outputs": [],
   "source": [
    "import __future__\n",
    "import sys\n",
    "import json\n",
    "# Assume that nextstrain/augur directory is next to h3n2_reassortment directory\n",
    "sys.path.append('../../nextstrain/augur')\n",
    "from base import io_util"
   ]
  },
  {
   "cell_type": "code",
   "execution_count": 2,
   "metadata": {},
   "outputs": [],
   "source": [
    "# Note: to restore saved jsons in case of error:\n",
    "# cp ~/Desktop/saved_reassortment_jsons/* data/\n",
    "# from nextstrain/auspice"
   ]
  },
  {
   "cell_type": "code",
   "execution_count": 3,
   "metadata": {},
   "outputs": [],
   "source": [
    "# Set default data directories\n",
    "data_dir = '../data/auspice_jsons/'\n",
    "ha_file = data_dir+'flu_seasonal_h3n2_ha_2y_tree.json'\n",
    "na_file = data_dir+'flu_seasonal_h3n2_na_2y_tree.json'\n",
    "meta_json = data_dir+'flu_seasonal_h3n2_ha_2y_meta.json'\n",
    "\n",
    "# Mutations that identify A and B identities\n",
    "A_mut = u'T131K'\n",
    "B_mut = u'N329S'"
   ]
  },
  {
   "cell_type": "code",
   "execution_count": 4,
   "metadata": {},
   "outputs": [],
   "source": [
    "# Read in HA and NA tree JSONs\n",
    "with open(ha_file, 'r') as f:\n",
    "    dump = json.loads(f.read())\n",
    "    ha_tree = io_util.json_to_tree(dump)\n",
    "with open(na_file, 'r') as f:\n",
    "    dump = json.loads(f.read())\n",
    "    na_tree = io_util.json_to_tree(dump)"
   ]
  },
  {
   "cell_type": "code",
   "execution_count": 5,
   "metadata": {},
   "outputs": [
    {
     "name": "stdout",
     "output_type": "stream",
     "text": [
      "NODE_0001922\n"
     ]
    }
   ],
   "source": [
    "print(na_tree)"
   ]
  },
  {
   "cell_type": "code",
   "execution_count": 6,
   "metadata": {},
   "outputs": [
    {
     "name": "stdout",
     "output_type": "stream",
     "text": [
      "['__bool__', '__class__', '__delattr__', '__dict__', '__doc__', '__format__', '__getattribute__', '__getitem__', '__hash__', '__init__', '__iter__', '__len__', '__module__', '__new__', '__nonzero__', '__reduce__', '__reduce_ex__', '__repr__', '__setattr__', '__sizeof__', '__str__', '__subclasshook__', '__weakref__', '_color', '_filter_search', '_get_color', '_set_color', 'attr', 'branch_length', 'clade', 'clades', 'collapse', 'collapse_all', 'color', 'comment', 'common_ancestor', 'confidence', 'count_terminals', 'depths', 'distance', 'find_any', 'find_clades', 'find_elements', 'get_nonterminals', 'get_path', 'get_terminals', 'is_bifurcating', 'is_monophyletic', 'is_parent_of', 'is_preterminal', 'is_terminal', 'ladderize', 'name', 'numdate', 'prune', 'root', 'serum', 'split', 'strain', 'total_branch_length', 'trace', 'tvalue', 'up', 'width', 'xvalue', 'yvalue']\n",
      "2\n",
      "False\n",
      "1951\n"
     ]
    }
   ],
   "source": [
    "print(dir(ha_tree))\n",
    "\n",
    "print(len(ha_tree.clades))\n",
    "print(ha_tree.is_terminal())\n",
    "\n",
    "def count_nodes(root):\n",
    "    count = 0\n",
    "    queue = []\n",
    "    \n",
    "    queue.append(root)\n",
    "    \n",
    "    while queue:\n",
    "        node = queue.pop(0)\n",
    "        \n",
    "        if not node.clades:\n",
    "            count += 1\n",
    "        else:\n",
    "            queue.extend(node.clades)\n",
    "            \n",
    "    return count\n",
    "\n",
    "print(count_nodes(ha_tree))\n",
    "        \n"
   ]
  },
  {
   "cell_type": "code",
   "execution_count": 7,
   "metadata": {},
   "outputs": [],
   "source": [
    "def label_na_clade(clade, na_label, B_mutation, na_strains_lookup):\n",
    "    '''Assign labels b or B to nodes in the NA tree recursively.\n",
    "    \n",
    "    Adds leaves to dictionary that allows for easy state-lookup based\n",
    "    on strain name, which gets used by label_na_na_co_clades.\n",
    "    '''\n",
    "    label = na_label\n",
    "    if na_label == 'NA-329N' and hasattr(clade, 'aa_muts'):\n",
    "        if B_mutation in clade.aa_muts[u'NA']:\n",
    "            label = 'NA-329S'\n",
    "    clade.attr[u'na_mut_label'] = label\n",
    "    if clade.is_terminal():\n",
    "        na_strains_lookup[clade.strain] = na_label\n",
    "    else:\n",
    "        for child in clade.clades:\n",
    "            label_na_clade(child, label, B_mutation, na_strains_lookup)"
   ]
  },
  {
   "cell_type": "code",
   "execution_count": 8,
   "metadata": {},
   "outputs": [],
   "source": [
    "def label_ha_na_co_clades(clade, ha_label, A_mutation, \n",
    "                          na_strains, \n",
    "                          counts=None,\n",
    "                          ha_strains=None):\n",
    "    '''Assign ab, aB, Ab, and AB labels recursively to HA tree.\n",
    "    \n",
    "    Relies on lookup dictionary to b/B status from NA tree and keeps track of\n",
    "    counts of each state. Returns thouse counts.\n",
    "    \n",
    "    Count return is mostly for debugging, can be removed later.\n",
    "    '''\n",
    "    if ha_strains ==None:\n",
    "        ha_strains = {}\n",
    "    if counts==None:\n",
    "        counts = {'HA1-131T, NA-329N': 0, \n",
    "                  'HA1-131T, NA-329S': 0, \n",
    "                  'HA1-131K, NA-329N': 0, \n",
    "                  'HA1-131K, NA-329S': 0, \n",
    "                  'unmatched': 0}\n",
    "    label = ha_label\n",
    "    if ha_label == 'HA1-131T' and hasattr(clade, 'aa_muts'):\n",
    "        try:\n",
    "            if A_mutation in clade.aa_muts[u'HA1']:\n",
    "                label = 'HA1-131K'\n",
    "        except:\n",
    "            print(clade.aa_muts)\n",
    "    if clade.is_terminal():\n",
    "        try:\n",
    "            matched_na_node_label = na_strains[clade.strain]\n",
    "            clade.attr[u'co_clade_label'] = \"{}, {}\".format(label,matched_na_node_label)\n",
    "        except:\n",
    "            clade.attr[u'co_clade_label'] = 'unmatched'\n",
    "        ha_strains[clade.strain] = clade.attr[u'co_clade_label']\n",
    "        counts[clade.attr[u'co_clade_label']] += 1\n",
    "    else:\n",
    "        for child in clade.clades:\n",
    "            label_ha_na_co_clades(child, label, A_mutation, na_strains, counts, ha_strains)\n",
    "        \n",
    "    return counts, ha_strains"
   ]
  },
  {
   "cell_type": "code",
   "execution_count": 9,
   "metadata": {},
   "outputs": [],
   "source": [
    "import sys\n",
    "def re_label_na_tree(node, lookup):\n",
    "    if node.is_terminal():\n",
    "        try:\n",
    "            node.attr[u'co_clade_label'] = lookup[node.strain]\n",
    "        except KeyError:\n",
    "            node.attr[u'co_clade_label'] = 'unmatched'\n",
    "            # pass\n",
    "    else:\n",
    "        for ch in node.clades:\n",
    "            re_label_na_tree(ch, lookup)"
   ]
  },
  {
   "cell_type": "code",
   "execution_count": 10,
   "metadata": {},
   "outputs": [],
   "source": [
    "NA_strains = {}\n",
    "label_na_clade(na_tree, 'NA-329N', B_mut, NA_strains)"
   ]
  },
  {
   "cell_type": "code",
   "execution_count": 11,
   "metadata": {},
   "outputs": [],
   "source": [
    "(C, ha_and_na_labels) = label_ha_na_co_clades(ha_tree, 'HA1-131T', A_mut, NA_strains)"
   ]
  },
  {
   "cell_type": "code",
   "execution_count": 12,
   "metadata": {},
   "outputs": [
    {
     "name": "stdout",
     "output_type": "stream",
     "text": [
      "{'HA1-131T, NA-329N': 887, 'HA1-131K, NA-329S': 299, 'HA1-131K, NA-329N': 171, 'HA1-131T, NA-329S': 460, 'unmatched': 134}\n"
     ]
    }
   ],
   "source": [
    "print(C)"
   ]
  },
  {
   "cell_type": "code",
   "execution_count": 13,
   "metadata": {},
   "outputs": [],
   "source": [
    "re_label_na_tree(na_tree, ha_and_na_labels)"
   ]
  },
  {
   "cell_type": "code",
   "execution_count": 14,
   "metadata": {},
   "outputs": [],
   "source": [
    "# modify_meta_json(j):\n",
    "# with open(meta_json, 'r') as f:\n",
    "#    meta_dict = json.loads(f.read())\n",
    "#\n",
    "#print(meta_dict.keys())\n",
    "#print(meta_dict['color_options'])\n",
    "#\n",
    "x = {u'key': u'co_clade_label',\n",
    "   u'legendTitle': u'Co-clade',\n",
    "   u'menuItem': u'co_clade',\n",
    "   u'type': u'discrete'}\n",
    "\n",
    "#meta_dict[u'color_options'][u'co_clade_label'] = x"
   ]
  },
  {
   "cell_type": "code",
   "execution_count": 15,
   "metadata": {},
   "outputs": [],
   "source": [
    "with open(ha_file, 'w') as f:\n",
    "    data = io_util.tree_to_json(ha_tree, ['clade', 'attr', 'serum', 'muts', 'aa_muts'])\n",
    "    json.dump(data, f, indent=1)\n",
    "    \n",
    "#with open(meta_json, 'w') as f:\n",
    "#    json.dump(meta_dict, f, indent=1)"
   ]
  },
  {
   "cell_type": "code",
   "execution_count": 16,
   "metadata": {},
   "outputs": [],
   "source": [
    "with open(na_file, 'w') as f:\n",
    "    data = io_util.tree_to_json(na_tree, ['clade', 'attr', 'serum', 'muts', 'aa_muts'])\n",
    "    json.dump(data, f, indent=1)"
   ]
  },
  {
   "cell_type": "code",
   "execution_count": 17,
   "metadata": {},
   "outputs": [
    {
     "data": {
      "text/plain": [
       "True"
      ]
     },
     "execution_count": 17,
     "metadata": {},
     "output_type": "execute_result"
    }
   ],
   "source": [
    "with open(ha_file, 'r') as f:\n",
    "    dump = json.loads(f.read())\n",
    "    ha_tree2 = io_util.json_to_tree(dump)\n",
    "\n",
    "dir(ha_tree2) == dir(ha_tree)"
   ]
  },
  {
   "cell_type": "code",
   "execution_count": null,
   "metadata": {},
   "outputs": [],
   "source": []
  },
  {
   "cell_type": "code",
   "execution_count": null,
   "metadata": {},
   "outputs": [],
   "source": []
  }
 ],
 "metadata": {
  "kernelspec": {
   "display_name": "Python [conda env:h3n2_reassortment]",
   "language": "python",
   "name": "conda-env-h3n2_reassortment-py"
  },
  "language_info": {
   "codemirror_mode": {
    "name": "ipython",
    "version": 2
   },
   "file_extension": ".py",
   "mimetype": "text/x-python",
   "name": "python",
   "nbconvert_exporter": "python",
   "pygments_lexer": "ipython2",
   "version": "2.7.15"
  }
 },
 "nbformat": 4,
 "nbformat_minor": 2
}
