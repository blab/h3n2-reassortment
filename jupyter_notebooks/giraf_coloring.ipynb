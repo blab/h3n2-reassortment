{
 "cells": [
  {
   "cell_type": "code",
   "execution_count": 1,
   "metadata": {},
   "outputs": [],
   "source": [
    "import __future__\n",
    "import sys\n",
    "import json\n",
    "# Assume that nextstrain/augur directory is next to h3n2_reassortment directory\n",
    "sys.path.append('../../../hutch/nextstrain/augur/')\n",
    "from base import io_util"
   ]
  },
  {
   "cell_type": "code",
   "execution_count": 2,
   "metadata": {},
   "outputs": [],
   "source": [
    "# Set default data directories\n",
    "data_dir = '../giraf-analysis/400_tip_trees/reassortment_trees/'\n",
    "ha_file = data_dir+'flu_seasonal_h3n2_ha_2y_tree.json'\n",
    "na_file = data_dir+'flu_seasonal_h3n2_na_2y_tree.json'\n",
    "meta_json = data_dir+'flu_seasonal_h3n2_ha_2y_meta.json'\n"
   ]
  },
  {
   "cell_type": "code",
   "execution_count": 3,
   "metadata": {},
   "outputs": [],
   "source": [
    "# Read in HA and NA tree JSONs\n",
    "with open(ha_file, 'r') as f:\n",
    "    dump = json.loads(f.read())\n",
    "    ha_tree = io_util.json_to_tree(dump)\n",
    "with open(na_file, 'r') as f:\n",
    "    dump = json.loads(f.read())\n",
    "    na_tree = io_util.json_to_tree(dump)"
   ]
  },
  {
   "cell_type": "code",
   "execution_count": 4,
   "metadata": {},
   "outputs": [],
   "source": [
    "mylist = {\"A/Aberystwyth/6333/2018\", \"A/Alaska/37/2018\", \"A/Ammanford/7101/2018\", \"A/Anglesey/5245/2018\", \"A/Arizona/50/2017\", \"A/Arkhangelsk/29/2018\", \"A/Asaka/1/2018\", \"A/Ayutthaya/56/2018\", \"A/Bangladesh/1246/2017\", \"A/Bolivia/150/2018\", \"A/Bolivia/71/2018\", \"A/Brazil/1445/2017\", \"A/Brazil/1967/2017\", \"A/Brazil/4558/2017\", \"A/Brazil/4729/2017\", \"A/Brazil/6029/2018\", \"A/Bretagne/1413/2017\", \"A/Brisbane/1/2018\", \"A/Brisbane/190/2017\", \"A/Brisbane/36/2018\", \"A/California/94/2017\", \"A/Canberra/1/2018\", \"A/Cardiff/8857/2018\", \"A/Cardiff/9215/2018\", \"A/Cardiff/9945/2018\", \"A/ChiangMai/10/2018\", \"A/Colombia/8139/2018\", \"A/Concepcion/32372/2018\", \"A/Congo/467/2017\", \"A/Congo/487/2017\", \"A/Congo/510/2017\", \"A/Congo/553/2017\", \"A/Congo/7/2018\", \"A/Connecticut/29/2017\", \"A/Dnipro/416/2018\", \"A/Ecuador/103/2018\", \"A/Ehime/50/2017\", \"A/England/120/2017\", \"A/England/74820686/2017\", \"A/England/75060551/2017\", \"A/England/75060552/2017\", \"A/England/80480665/2018\", \"A/England/80500548/2018\", \"A/England/80780396/2018\", \"A/Eskilstuna/3/2017\", \"A/Florida/80/2017\", \"A/Guyane/17/2018\", \"A/Guyane/23/2018\", \"A/Guyane/333/2017\", \"A/Guyane/360/2017\", \"A/Guyane/499/2018\", \"A/Guyane/529/2018\", \"A/Heilongjiang/Aihui/1208/2018\", \"A/HongKong/656/2018\", \"A/HongKong/675/2018\", \"A/Iowa/37/2017\", \"A/Iquique/37846/2018\", \"A/Kanagawa/AC1729/2018\", \"A/Kanagawa/AC1737/2018\", \"A/Kanagawa/IC1726/2018\", \"A/Kanagawa/ZC1729/2018\", \"A/Kazakhstan/49/2018\", \"A/Kitakyushu/2/2018\", \"A/LaSerena/61435/2017\", \"A/Lao/2922/2017\", \"A/Lebanon/427/2018\", \"A/Macau/602251/2018\", \"A/Michigan/299/2017\", \"A/Michigan/305/2017\", \"A/Michigan/78/2018\", \"A/Mie/22/2018\", \"A/Moscow/149/2018\", \"A/Nagano/2197/2018\", \"A/NewMexico/14/2018\", \"A/NewMexico/24/2017\", \"A/Newcastle/11/2018\", \"A/Newcastle/13/2018\", \"A/Newcastle/5/2018\", \"A/Newfoundland/RV1529/2018\", \"A/Newfoundland/RV1812/2018\", \"A/Nonthaburi/16/2018\", \"A/NorthCarolina/31/2017\", \"A/Norway/3806/2016\", \"A/Okayama/20/2018\", \"A/Orebro/2/2017\", \"A/Oregon/19/2016\", \"A/Pakistan/199/2017\", \"A/Paraguay/9159/2018\", \"A/Perth/345/2017\", \"A/Peru/3817/2017\", \"A/SaintLucia/638/2018\", \"A/Santiago/9536/2018\", \"A/Sapporo/33/2018\", \"A/Saskatchewan/RV2340/2017\", \"A/Seoul/786/2017\", \"A/Shimane/112/2017\", \"A/SouthAfrica/R00173/2018\", \"A/SouthAfrica/R03668/2018\", \"A/SouthAustralia/11/2018\", \"A/SouthAustralia/8/2018\", \"A/StPetersburg/RII/362/2018\", \"A/Stockholm/32/2017\", \"A/SuratThani/83/2018\", \"A/Suriname/2326/2017\", \"A/Suriname/2354/2017\", \"A/Swansea/7081/2018\", \"A/Swansea/9267/2018\", \"A/Swansea/9391/2018\", \"A/Sweden/80/2017\", \"A/Switzerland/8060/2017\", \"A/Sydney/10/2018\", \"A/Texas/299/2017\", \"A/TurksAndCaicos/74/2017\", \"A/Uppsala/1/2017\", \"A/Yamagata/168/2018\", \"A/Yamagata/182/2018\", \"A/Yokohama/68/2018\", \"A/Yokohama/78/2018\"}"
   ]
  },
  {
   "cell_type": "code",
   "execution_count": 5,
   "metadata": {},
   "outputs": [],
   "source": [
    "def color_clade(clade, l):\n",
    "    \n",
    "    if clade.is_terminal():\n",
    "        if clade.name in l:\n",
    "            clade.attr[u'reassortant'] = \"Reassortant\"\n",
    "        else:\n",
    "            clade.attr[u'reassortant'] = \"Basal\"\n",
    "    else:\n",
    "        for child in clade.clades:\n",
    "            color_clade(child, l)"
   ]
  },
  {
   "cell_type": "code",
   "execution_count": 6,
   "metadata": {},
   "outputs": [],
   "source": [
    "color_clade(ha_tree, mylist)\n",
    "color_clade(na_tree, mylist)"
   ]
  },
  {
   "cell_type": "code",
   "execution_count": 7,
   "metadata": {},
   "outputs": [],
   "source": [
    "with open(ha_file, 'w') as f:\n",
    "    data = io_util.tree_to_json(ha_tree, ['clade', 'attr', 'serum', 'muts', 'aa_muts'])\n",
    "    json.dump(data, f, indent=1)\n",
    "with open(na_file, 'w') as f:\n",
    "    data = io_util.tree_to_json(na_tree, ['clade', 'attr', 'serum', 'muts', 'aa_muts'])\n",
    "    json.dump(data, f, indent=1)"
   ]
  }
 ],
 "metadata": {
  "kernelspec": {
   "display_name": "Python [conda env:h3n2_reassortment]",
   "language": "python",
   "name": "conda-env-h3n2_reassortment-py"
  },
  "language_info": {
   "codemirror_mode": {
    "name": "ipython",
    "version": 2
   },
   "file_extension": ".py",
   "mimetype": "text/x-python",
   "name": "python",
   "nbconvert_exporter": "python",
   "pygments_lexer": "ipython2",
   "version": "2.7.15"
  }
 },
 "nbformat": 4,
 "nbformat_minor": 2
}
