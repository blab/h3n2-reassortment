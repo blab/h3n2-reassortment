{
 "cells": [
  {
   "cell_type": "code",
   "execution_count": 1,
   "metadata": {},
   "outputs": [],
   "source": [
    "import __future__\n",
    "import sys\n",
    "import json\n",
    "sys.path.append('/Users/bpotter/nextstrain/augur')\n",
    "from base import io_util"
   ]
  },
  {
   "cell_type": "code",
   "execution_count": 2,
   "metadata": {},
   "outputs": [],
   "source": [
    "# Set default data directories\n",
    "data_dir = '/Users/bpotter/nextstrain/auspice/data/'\n",
    "ha_file = data_dir+'flu_seasonal_h3n2_ha_2y_tree.json'\n",
    "na_file = data_dir+'flu_seasonal_h3n2_na_2y_tree.json'\n",
    "\n",
    "# Mutations that identify A and B identities\n",
    "A_mut = u'P21S'\n",
    "B_mut = u'P386S'"
   ]
  },
  {
   "cell_type": "code",
   "execution_count": 3,
   "metadata": {},
   "outputs": [],
   "source": [
    "# Read in HA and NA tree JSONs\n",
    "with open(ha_file, 'r') as f:\n",
    "    dump = json.loads(f.read())\n",
    "    ha_tree = io_util.json_to_tree(dump)\n",
    "with open(na_file, 'r') as f:\n",
    "    dump = json.loads(f.read())\n",
    "    na_tree = io_util.json_to_tree(dump)"
   ]
  },
  {
   "cell_type": "code",
   "execution_count": 4,
   "metadata": {},
   "outputs": [],
   "source": [
    "def label_na_clade(clade, na_label, B_mutation, na_strains_lookup):\n",
    "    '''Assign labels b or B to nodes in the NA tree recursively.\n",
    "    \n",
    "    Adds leaves to dictionary that allows for easy state-lookup based\n",
    "    on strain name, which gets used by label_na_na_co_clades.\n",
    "    '''\n",
    "    label = na_label\n",
    "    if na_label == 'b' and hasattr(clade, 'aa_muts'):\n",
    "        if B_mutation in clade.aa_muts[u'NA']:\n",
    "            label = 'B'\n",
    "    setattr(clade, 'na_mut_label', label)\n",
    "    if clade.clades == []:\n",
    "        na_strains_lookup[clade.strain] = na_label\n",
    "    else:\n",
    "        for child in clade.clades:\n",
    "            label_na_clade(child, label, B_mutation, na_strains_lookup)"
   ]
  },
  {
   "cell_type": "code",
   "execution_count": 5,
   "metadata": {},
   "outputs": [],
   "source": [
    "def label_ha_na_co_clades(clade, ha_label, A_mutation, \n",
    "                          na_strains, \n",
    "                          counts={'ab': 0, 'Ab': 0, 'aB': 0, 'AB': 0, 'unmatched': 0}):\n",
    "    '''Assign ab, aB, Ab, and AB labels recursively to HA tree.\n",
    "    \n",
    "    Relies on lookup dictionary to b/B status from NA tree and keeps track of\n",
    "    counts of each state. Returns thouse counts.\n",
    "    \n",
    "    Count return is mostly for debugging, can be removed later.\n",
    "    '''\n",
    "    label = ha_label\n",
    "    if ha_label == 'a' and hasattr(clade, 'aa_muts'):\n",
    "        try:\n",
    "            if A_mutation in clade.aa_muts[u'HA1']:\n",
    "                label = 'A'\n",
    "        except:\n",
    "            print(clade.aa_muts)\n",
    "    if clade.clades == []:\n",
    "        try:\n",
    "            matched_na_node_label = na_strains[clade.strain]\n",
    "            setattr(clade, 'co_clade_label', label+matched_na_node_label)\n",
    "        except:\n",
    "            setattr(clade, 'co_clade_label', 'unmatched')\n",
    "        counts[clade.co_clade_label] += 1\n",
    "    for child in clade.clades:\n",
    "        label_ha_na_co_clades(child, label, A_mutation, na_strains, counts)\n",
    "        \n",
    "    return counts"
   ]
  },
  {
   "cell_type": "code",
   "execution_count": 6,
   "metadata": {},
   "outputs": [],
   "source": [
    "NA_strains = {}\n",
    "label_na_clade(na_tree, 'b', B_mut, NA_strains)"
   ]
  },
  {
   "cell_type": "code",
   "execution_count": 7,
   "metadata": {},
   "outputs": [],
   "source": [
    "C = label_ha_na_co_clades(ha_tree, 'a', A_mut, NA_strains)"
   ]
  },
  {
   "cell_type": "code",
   "execution_count": 8,
   "metadata": {},
   "outputs": [
    {
     "data": {
      "text/plain": [
       "{'AB': 16, 'Ab': 1, 'aB': 286, 'ab': 1514, 'unmatched': 134}"
      ]
     },
     "execution_count": 8,
     "metadata": {},
     "output_type": "execute_result"
    }
   ],
   "source": [
    "C"
   ]
  },
  {
   "cell_type": "code",
   "execution_count": null,
   "metadata": {},
   "outputs": [],
   "source": []
  }
 ],
 "metadata": {
  "kernelspec": {
   "display_name": "Python [conda env:h3n2_reassortment]",
   "language": "python",
   "name": "conda-env-h3n2_reassortment-py"
  },
  "language_info": {
   "codemirror_mode": {
    "name": "ipython",
    "version": 2
   },
   "file_extension": ".py",
   "mimetype": "text/x-python",
   "name": "python",
   "nbconvert_exporter": "python",
   "pygments_lexer": "ipython2",
   "version": "2.7.15"
  }
 },
 "nbformat": 4,
 "nbformat_minor": 2
}
