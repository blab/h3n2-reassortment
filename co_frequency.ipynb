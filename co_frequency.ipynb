{
 "cells": [
  {
   "cell_type": "code",
   "execution_count": 1,
   "metadata": {},
   "outputs": [],
   "source": [
    "import __future__\n",
    "import sys\n",
    "import json\n",
    "sys.path.append('/Users/bpotter/nextstrain/augur')\n",
    "from base import io_util"
   ]
  },
  {
   "cell_type": "code",
   "execution_count": 2,
   "metadata": {},
   "outputs": [],
   "source": [
    "# Note: to restore saved jsons in case of error:\n",
    "# cp ~/Desktop/saved_reassortment_jsons/* data/\n",
    "# from nextstrain/auspice"
   ]
  },
  {
   "cell_type": "code",
   "execution_count": 3,
   "metadata": {},
   "outputs": [],
   "source": [
    "# Set default data directories\n",
    "data_dir = '/Users/bpotter/nextstrain/auspice/data/'\n",
    "ha_file = data_dir+'flu_seasonal_h3n2_ha_2y_tree.json'\n",
    "na_file = data_dir+'flu_seasonal_h3n2_na_2y_tree.json'\n",
    "meta_json = data_dir+'flu_seasonal_h3n2_ha_2y_meta.json'\n",
    "\n",
    "# Mutations that identify A and B identities\n",
    "A_mut = u'T131K'\n",
    "B_mut = u'N329S'"
   ]
  },
  {
   "cell_type": "code",
   "execution_count": 4,
   "metadata": {},
   "outputs": [],
   "source": [
    "# Read in HA and NA tree JSONs\n",
    "with open(ha_file, 'r') as f:\n",
    "    dump = json.loads(f.read())\n",
    "    ha_tree = io_util.json_to_tree(dump)\n",
    "with open(na_file, 'r') as f:\n",
    "    dump = json.loads(f.read())\n",
    "    na_tree = io_util.json_to_tree(dump)"
   ]
  },
  {
   "cell_type": "code",
   "execution_count": 5,
   "metadata": {},
   "outputs": [
    {
     "name": "stdout",
     "output_type": "stream",
     "text": [
      "['__bool__', '__class__', '__delattr__', '__dict__', '__doc__', '__format__', '__getattribute__', '__getitem__', '__hash__', '__init__', '__iter__', '__len__', '__module__', '__new__', '__nonzero__', '__reduce__', '__reduce_ex__', '__repr__', '__setattr__', '__sizeof__', '__str__', '__subclasshook__', '__weakref__', '_color', '_filter_search', '_get_color', '_set_color', 'attr', 'branch_length', 'clade', 'clades', 'collapse', 'collapse_all', 'color', 'comment', 'common_ancestor', 'confidence', 'count_terminals', 'depths', 'distance', 'find_any', 'find_clades', 'find_elements', 'get_nonterminals', 'get_path', 'get_terminals', 'is_bifurcating', 'is_monophyletic', 'is_parent_of', 'is_preterminal', 'is_terminal', 'ladderize', 'name', 'numdate', 'prune', 'root', 'serum', 'split', 'strain', 'total_branch_length', 'trace', 'tvalue', 'up', 'width', 'xvalue', 'yvalue']\n",
      "2\n",
      "False\n"
     ]
    }
   ],
   "source": [
    "print(dir(ha_tree))\n",
    "\n",
    "print(len(ha_tree.clades))\n",
    "print(ha_tree.is_terminal())"
   ]
  },
  {
   "cell_type": "code",
   "execution_count": 6,
   "metadata": {},
   "outputs": [],
   "source": [
    "def label_na_clade(clade, na_label, B_mutation, na_strains_lookup):\n",
    "    '''Assign labels b or B to nodes in the NA tree recursively.\n",
    "    \n",
    "    Adds leaves to dictionary that allows for easy state-lookup based\n",
    "    on strain name, which gets used by label_na_na_co_clades.\n",
    "    '''\n",
    "    label = na_label\n",
    "    if na_label == 'b' and hasattr(clade, 'aa_muts'):\n",
    "        if B_mutation in clade.aa_muts[u'NA']:\n",
    "            label = 'B'\n",
    "    clade.attr[u'na_mut_label'] = label\n",
    "    if clade.is_terminal():\n",
    "        na_strains_lookup[clade.strain] = na_label\n",
    "    else:\n",
    "        for child in clade.clades:\n",
    "            label_na_clade(child, label, B_mutation, na_strains_lookup)"
   ]
  },
  {
   "cell_type": "code",
   "execution_count": 7,
   "metadata": {},
   "outputs": [],
   "source": [
    "def label_ha_na_co_clades(clade, ha_label, A_mutation, \n",
    "                          na_strains, \n",
    "                          counts=None):\n",
    "    '''Assign ab, aB, Ab, and AB labels recursively to HA tree.\n",
    "    \n",
    "    Relies on lookup dictionary to b/B status from NA tree and keeps track of\n",
    "    counts of each state. Returns thouse counts.\n",
    "    \n",
    "    Count return is mostly for debugging, can be removed later.\n",
    "    '''\n",
    "    if counts==None:\n",
    "        counts = {'ab': 0, 'Ab': 0, 'aB': 0, 'AB': 0, 'unmatched': 0}\n",
    "    label = ha_label\n",
    "    if ha_label == 'a' and hasattr(clade, 'aa_muts'):\n",
    "        try:\n",
    "            if A_mutation in clade.aa_muts[u'HA1']:\n",
    "                label = 'A'\n",
    "        except:\n",
    "            print(clade.aa_muts)\n",
    "    if clade.is_terminal():\n",
    "        try:\n",
    "            matched_na_node_label = na_strains[clade.strain]\n",
    "            clade.attr[u'co_clade_label'] = label+matched_na_node_label\n",
    "        except:\n",
    "            clade.attr[u'co_clade_label'] = 'unmatched'\n",
    "        counts[clade.attr[u'co_clade_label']] += 1\n",
    "    else:\n",
    "        for child in clade.clades:\n",
    "            label_ha_na_co_clades(child, label, A_mutation, na_strains, counts)\n",
    "        \n",
    "    return counts"
   ]
  },
  {
   "cell_type": "code",
   "execution_count": 8,
   "metadata": {},
   "outputs": [],
   "source": [
    "NA_strains = {}\n",
    "label_na_clade(na_tree, 'b', B_mut, NA_strains)"
   ]
  },
  {
   "cell_type": "code",
   "execution_count": 9,
   "metadata": {},
   "outputs": [],
   "source": [
    "C = label_ha_na_co_clades(ha_tree, 'a', A_mut, NA_strains)"
   ]
  },
  {
   "cell_type": "code",
   "execution_count": 13,
   "metadata": {},
   "outputs": [
    {
     "name": "stdout",
     "output_type": "stream",
     "text": [
      "{'unmatched': 134, 'ab': 887, 'aB': 460, 'AB': 299, 'Ab': 171}\n"
     ]
    }
   ],
   "source": [
    "print(C)"
   ]
  },
  {
   "cell_type": "code",
   "execution_count": 11,
   "metadata": {},
   "outputs": [
    {
     "name": "stdout",
     "output_type": "stream",
     "text": [
      "[u'updated', u'author_info', u'virus_count', u'filters', u'maintainer', u'title', u'vaccine_choices', u'controls', u'color_options', u'seq_author_map', u'defaults', u'commit', u'panels', u'geo', u'annotations']\n",
      "{u'num_date': {u'menuItem': u'date', u'legendTitle': u'Sampling date', u'type': u'continuous', u'key': u'num_date'}, u'rb': {u'menuItem': u'receptor binding mutations', u'type': u'continuous', u'legendTitle': u'Receptor binding mutations', u'key': u'rb'}, u'region': {u'menuItem': u'region', u'legendTitle': u'Region', u'color_map': [[u'china', u'#4042C7'], [u'southeast_asia', u'#4274CE'], [u'south_asia', u'#5199B7'], [u'japan_korea', u'#69B091'], [u'oceania', u'#88BB6C'], [u'west_asia', u'#ADBD51'], [u'africa', u'#CEB541'], [u'europe', u'#E39B39'], [u'south_america', u'#E56C2F'], [u'north_america', u'#DC2F24']], u'type': u'discrete', u'key': u'region'}, u'ne': {u'menuItem': u'non-epitope mutations', u'type': u'continuous', u'legendTitle': u'Non-epitope mutations', u'key': u'ne'}, u'gt': {u'menuItem': u'genotype', u'legendTitle': u'Genotype', u'type': u'discrete', u'key': u'genotype'}, u'cTiterSub': {u'menuItem': u'antigenic advance', u'type': u'continuous', u'legendTitle': u'Antigenic advance', u'key': u'cTiterSub'}, u'fitness': {u'menuItem': u'fitness', u'type': u'continuous', u'legendTitle': u'Fitness', u'key': u'fitness'}, u'lbi': {u'vmin': 0, u'menuItem': u'local branching index', u'legendTitle': u'local branching index', u'key': u'lbi', u'vmax': 0.7, u'type': u'continuous'}, u'ep': {u'menuItem': u'epitope mutations', u'type': u'continuous', u'legendTitle': u'Epitope mutations', u'key': u'ep'}, u'clade_membership': {u'menuItem': u'clade', u'legendTitle': u'Clade', u'color_map': [[u'3c', u'#555'], [u'3c2', u'#555'], [u'3c2.A', u'#555'], [u'3c3', u'#555'], [u'3c3.A', u'#555'], [u'3c3.B', u'#555'], [u'A1', u'#555'], [u'A1a', u'#CEB541'], [u'A1b', u'#555'], [u'A1b/135K', u'#555'], [u'A1b/135N', u'#555'], [u'A2', u'#4C90C0'], [u'A2/re', u'#DF4327'], [u'A3', u'#555'], [u'A4', u'#555']], u'type': u'discrete', u'key': u'clade_membership'}}\n"
     ]
    }
   ],
   "source": [
    "# modify_meta_json(j):\n",
    "with open(meta_json, 'r') as f:\n",
    "    meta_dict = json.loads(f.read())\n",
    "\n",
    "print(meta_dict.keys())\n",
    "print(meta_dict['color_options'])\n",
    "\n",
    "x = {u'key': u'co_clade_label',\n",
    "   u'legendTitle': u'Co-clade',\n",
    "   u'menuItem': u'co_clade',\n",
    "   u'type': u'discrete'}\n",
    "\n",
    "meta_dict[u'color_options'][u'co_clade_label'] = x"
   ]
  },
  {
   "cell_type": "code",
   "execution_count": 15,
   "metadata": {},
   "outputs": [],
   "source": [
    "with open(ha_file, 'w') as f:\n",
    "    data = io_util.tree_to_json(ha_tree)\n",
    "    json.dump(data, f, indent=1)\n",
    "    \n",
    "#with open(meta_json, 'w') as f:\n",
    "#    json.dump(meta_dict, f, indent=1)"
   ]
  },
  {
   "cell_type": "code",
   "execution_count": null,
   "metadata": {},
   "outputs": [],
   "source": []
  },
  {
   "cell_type": "code",
   "execution_count": null,
   "metadata": {},
   "outputs": [],
   "source": []
  },
  {
   "cell_type": "code",
   "execution_count": null,
   "metadata": {},
   "outputs": [],
   "source": []
  }
 ],
 "metadata": {
  "kernelspec": {
   "display_name": "Python [conda env:h3n2_reassortment]",
   "language": "python",
   "name": "conda-env-h3n2_reassortment-py"
  },
  "language_info": {
   "codemirror_mode": {
    "name": "ipython",
    "version": 2
   },
   "file_extension": ".py",
   "mimetype": "text/x-python",
   "name": "python",
   "nbconvert_exporter": "python",
   "pygments_lexer": "ipython2",
   "version": "2.7.15"
  }
 },
 "nbformat": 4,
 "nbformat_minor": 2
}
