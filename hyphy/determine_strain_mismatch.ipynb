{
 "cells": [
  {
   "cell_type": "code",
   "execution_count": 1,
   "metadata": {},
   "outputs": [],
   "source": [
    "# determine_strain_mismatch.ipynb\n",
    "#\n",
    "# The goal of this notebook is to determine the mismatch between an \n",
    "# aligned FASTA and a Newick tree built from that same file but with\n",
    "# some number of strains removed during treebuilding."
   ]
  },
  {
   "cell_type": "code",
   "execution_count": 2,
   "metadata": {},
   "outputs": [],
   "source": [
    "from Bio import Phylo, SeqIO"
   ]
  },
  {
   "cell_type": "code",
   "execution_count": 3,
   "metadata": {},
   "outputs": [],
   "source": [
    "fasta_file = \"aligned_fastas/aligned-nuc_cdc_h3n2_ha_2y_cell_hi.fasta\"\n",
    "newick_file = \"newick_trees/tree-raw_cdc_h3n2_ha_2y_cell_hi.nwk\""
   ]
  },
  {
   "cell_type": "code",
   "execution_count": 4,
   "metadata": {},
   "outputs": [],
   "source": [
    "s = set()\n",
    "with open(fasta_file, \"rU\") as handle:\n",
    "    for record in SeqIO.parse(handle, \"fasta\") :\n",
    "        s.add(record.id)"
   ]
  },
  {
   "cell_type": "code",
   "execution_count": 5,
   "metadata": {},
   "outputs": [],
   "source": [
    "tree = Phylo.read(newick_file, 'newick')"
   ]
  },
  {
   "cell_type": "code",
   "execution_count": 6,
   "metadata": {},
   "outputs": [],
   "source": [
    "t = set( [ n.name for n in tree.get_terminals() ])"
   ]
  },
  {
   "cell_type": "code",
   "execution_count": 7,
   "metadata": {},
   "outputs": [
    {
     "name": "stdout",
     "output_type": "stream",
     "text": [
      "890\n",
      "891\n"
     ]
    }
   ],
   "source": [
    "print(len(t))\n",
    "print(len(s))"
   ]
  },
  {
   "cell_type": "code",
   "execution_count": 8,
   "metadata": {},
   "outputs": [
    {
     "name": "stdout",
     "output_type": "stream",
     "text": [
      "set(['A/Fujian-Licheng/1729/2017'])\n"
     ]
    }
   ],
   "source": [
    "diff = s - t\n",
    "print(diff)"
   ]
  },
  {
   "cell_type": "code",
   "execution_count": 9,
   "metadata": {},
   "outputs": [
    {
     "name": "stdout",
     "output_type": "stream",
     "text": [
      "890\n"
     ]
    }
   ],
   "source": [
    "with open(\"aligned_fastas/trimmed.fasta\", \"w\") as output_handle:\n",
    "    with open(fasta_file, \"rU\") as handle:\n",
    "        sequences = set ([ seq for seq in SeqIO.parse(handle, \"fasta\") if seq.id not in diff ])\n",
    "        SeqIO.write(sequences, output_handle, \"fasta\")\n",
    "print(len(sequences))"
   ]
  },
  {
   "cell_type": "code",
   "execution_count": null,
   "metadata": {},
   "outputs": [],
   "source": []
  }
 ],
 "metadata": {
  "kernelspec": {
   "display_name": "Python [conda env:h3n2_reassortment]",
   "language": "python",
   "name": "conda-env-h3n2_reassortment-py"
  },
  "language_info": {
   "codemirror_mode": {
    "name": "ipython",
    "version": 2
   },
   "file_extension": ".py",
   "mimetype": "text/x-python",
   "name": "python",
   "nbconvert_exporter": "python",
   "pygments_lexer": "ipython2",
   "version": "2.7.15"
  }
 },
 "nbformat": 4,
 "nbformat_minor": 2
}
